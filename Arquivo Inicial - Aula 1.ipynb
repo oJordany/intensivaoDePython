{
 "cells": [
  {
   "cell_type": "markdown",
   "metadata": {},
   "source": [
    "# Automação de Sistemas e Processos com Python\n",
    "\n",
    "### Desafio:\n",
    "\n",
    "Todos os dias, o nosso sistema atualiza as vendas do dia anterior.\n",
    "O seu trabalho diário, como analista, é enviar um e-mail para a diretoria, assim que começar a trabalhar, com o faturamento e a quantidade de produtos vendidos no dia anterior\n",
    "\n",
    "E-mail da diretoria: seugmail+diretoria@gmail.com<br>\n",
    "Local onde o sistema disponibiliza as vendas do dia anterior: https://drive.google.com/drive/folders/149xknr9JvrlEnhNWO49zPcw0PW5icxga?usp=sharing\n",
    "\n",
    "Para resolver isso, vamos usar o pyautogui, uma biblioteca de automação de comandos do mouse e do teclado"
   ]
  },
  {
   "cell_type": "code",
   "execution_count": 49,
   "metadata": {},
   "outputs": [
    {
     "name": "stdout",
     "output_type": "stream",
     "text": [
      "Requirement already satisfied: pyautogui in c:\\users\\jorda\\anaconda3\\lib\\site-packages (0.9.53)\n",
      "Requirement already satisfied: pygetwindow>=0.0.5 in c:\\users\\jorda\\anaconda3\\lib\\site-packages (from pyautogui) (0.0.9)\n",
      "Requirement already satisfied: pymsgbox in c:\\users\\jorda\\anaconda3\\lib\\site-packages (from pyautogui) (1.0.9)\n",
      "Requirement already satisfied: PyTweening>=1.0.1 in c:\\users\\jorda\\anaconda3\\lib\\site-packages (from pyautogui) (1.0.4)\n",
      "Requirement already satisfied: pyscreeze>=0.1.21 in c:\\users\\jorda\\anaconda3\\lib\\site-packages (from pyautogui) (0.1.28)\n",
      "Requirement already satisfied: mouseinfo in c:\\users\\jorda\\anaconda3\\lib\\site-packages (from pyautogui) (0.1.3)\n",
      "Requirement already satisfied: pyrect in c:\\users\\jorda\\anaconda3\\lib\\site-packages (from pygetwindow>=0.0.5->pyautogui) (0.1.4)\n",
      "Requirement already satisfied: Pillow>=6.2.1 in c:\\users\\jorda\\anaconda3\\lib\\site-packages (from pyscreeze>=0.1.21->pyautogui) (8.2.0)\n",
      "Requirement already satisfied: pyperclip in c:\\users\\jorda\\anaconda3\\lib\\site-packages (from mouseinfo->pyautogui) (1.8.2)\n",
      "Requirement already satisfied: pyperclip in c:\\users\\jorda\\anaconda3\\lib\\site-packages (1.8.2)\n"
     ]
    }
   ],
   "source": [
    "!pip install pyautogui\n",
    "!pip install pyperclip"
   ]
  },
  {
   "cell_type": "code",
   "execution_count": 50,
   "metadata": {},
   "outputs": [],
   "source": [
    "# pyautogui -> biblioteca do python com o objetivo de automatizar o seu mouse, o seu teclado e a sua tela\n",
    "# pyperclip -> o pyautogui trabalha junto com esse outro pacote\n",
    "# Escrever o passo a passo em português\n",
    "# Passo 1 - Entrar no sistema da empresa (no caso o drive)\n",
    "    # -> Primeiro vamos abrir uma nova aba / copiar o link com o pyperclip para não dá erro de digitação / dar ctrl+v/ dar enter\n",
    "    # O pyautogui executa um comando atrás do outro, então tem que ter um delay para fazer cada comando\n",
    "import pyautogui\n",
    "import pyperclip\n",
    "import time\n",
    "    \n",
    "pyautogui.PAUSE = 1\n",
    "\n",
    "pyautogui.hotkey('ctrl', 't') # hotkey -> atalho\n",
    "pyperclip.copy('https://drive.google.com/drive/folders/149xknr9JvrlEnhNWO49zPcw0PW5icxga?usp=sharing')\n",
    "pyautogui.hotkey('ctrl', 'v')\n",
    "pyautogui.press('enter') # press aperta um botão do teclado e o click aperta com o botão do mouse\n",
    "    #pyautogui.write()\n",
    "    #pyautogui.click(x=PosX, y=PosY, clicks=1, bottom='right')\n",
    "    #pyautogui.copy()\n",
    "    #pyautogui.press()\n",
    "time.sleep(3)\n",
    "# passo 2 - Navegar no sistema até encontrar a base de dados\n",
    "pyautogui.click(x=381, y=264, clicks=2)\n",
    "time.sleep(2)\n",
    "# passo 3 - Exportar a base de vendas\n",
    "pyautogui.click(x=397, y=377)\n",
    "pyautogui.click(x=1155, y=147)\n",
    "pyautogui.click(x=1062, y=559)\n",
    "# passo 4 - Calcularia os indicadores (faturamento e quantidade de produtos vendidos)\n",
    "# passo 5 - Enviar em email para a diretoria com os indicadores"
   ]
  },
  {
   "cell_type": "markdown",
   "metadata": {},
   "source": [
    "### Vamos agora ler o arquivo baixado para pegar os indicadores\n",
    "\n",
    "- Faturamento\n",
    "- Quantidade de Produtos"
   ]
  },
  {
   "cell_type": "code",
   "execution_count": 51,
   "metadata": {},
   "outputs": [
    {
     "data": {
      "text/html": [
       "<div>\n",
       "<style scoped>\n",
       "    .dataframe tbody tr th:only-of-type {\n",
       "        vertical-align: middle;\n",
       "    }\n",
       "\n",
       "    .dataframe tbody tr th {\n",
       "        vertical-align: top;\n",
       "    }\n",
       "\n",
       "    .dataframe thead th {\n",
       "        text-align: right;\n",
       "    }\n",
       "</style>\n",
       "<table border=\"1\" class=\"dataframe\">\n",
       "  <thead>\n",
       "    <tr style=\"text-align: right;\">\n",
       "      <th></th>\n",
       "      <th>Código Venda</th>\n",
       "      <th>Data</th>\n",
       "      <th>ID Loja</th>\n",
       "      <th>Produto</th>\n",
       "      <th>Quantidade</th>\n",
       "      <th>Valor Unitário</th>\n",
       "      <th>Valor Final</th>\n",
       "    </tr>\n",
       "  </thead>\n",
       "  <tbody>\n",
       "    <tr>\n",
       "      <th>0</th>\n",
       "      <td>65014</td>\n",
       "      <td>2019-12-01</td>\n",
       "      <td>Shopping Morumbi</td>\n",
       "      <td>Sunga Listrado</td>\n",
       "      <td>5</td>\n",
       "      <td>114</td>\n",
       "      <td>570</td>\n",
       "    </tr>\n",
       "    <tr>\n",
       "      <th>1</th>\n",
       "      <td>65014</td>\n",
       "      <td>2019-12-01</td>\n",
       "      <td>Shopping Morumbi</td>\n",
       "      <td>Casaco Listrado</td>\n",
       "      <td>1</td>\n",
       "      <td>269</td>\n",
       "      <td>269</td>\n",
       "    </tr>\n",
       "    <tr>\n",
       "      <th>2</th>\n",
       "      <td>65016</td>\n",
       "      <td>2019-12-01</td>\n",
       "      <td>Iguatemi Campinas</td>\n",
       "      <td>Sapato Listrado</td>\n",
       "      <td>2</td>\n",
       "      <td>363</td>\n",
       "      <td>726</td>\n",
       "    </tr>\n",
       "    <tr>\n",
       "      <th>3</th>\n",
       "      <td>65016</td>\n",
       "      <td>2019-12-01</td>\n",
       "      <td>Iguatemi Campinas</td>\n",
       "      <td>Casaco</td>\n",
       "      <td>1</td>\n",
       "      <td>250</td>\n",
       "      <td>250</td>\n",
       "    </tr>\n",
       "    <tr>\n",
       "      <th>4</th>\n",
       "      <td>65017</td>\n",
       "      <td>2019-12-01</td>\n",
       "      <td>Shopping SP Market</td>\n",
       "      <td>Gorro Liso</td>\n",
       "      <td>3</td>\n",
       "      <td>92</td>\n",
       "      <td>276</td>\n",
       "    </tr>\n",
       "    <tr>\n",
       "      <th>...</th>\n",
       "      <td>...</td>\n",
       "      <td>...</td>\n",
       "      <td>...</td>\n",
       "      <td>...</td>\n",
       "      <td>...</td>\n",
       "      <td>...</td>\n",
       "      <td>...</td>\n",
       "    </tr>\n",
       "    <tr>\n",
       "      <th>7084</th>\n",
       "      <td>69996</td>\n",
       "      <td>2019-12-26</td>\n",
       "      <td>Center Shopping Uberlândia</td>\n",
       "      <td>Short Listrado</td>\n",
       "      <td>2</td>\n",
       "      <td>102</td>\n",
       "      <td>204</td>\n",
       "    </tr>\n",
       "    <tr>\n",
       "      <th>7085</th>\n",
       "      <td>69996</td>\n",
       "      <td>2019-12-26</td>\n",
       "      <td>Center Shopping Uberlândia</td>\n",
       "      <td>Mochila</td>\n",
       "      <td>4</td>\n",
       "      <td>270</td>\n",
       "      <td>1080</td>\n",
       "    </tr>\n",
       "    <tr>\n",
       "      <th>7086</th>\n",
       "      <td>69996</td>\n",
       "      <td>2019-12-26</td>\n",
       "      <td>Center Shopping Uberlândia</td>\n",
       "      <td>Pulseira Estampa</td>\n",
       "      <td>1</td>\n",
       "      <td>87</td>\n",
       "      <td>87</td>\n",
       "    </tr>\n",
       "    <tr>\n",
       "      <th>7087</th>\n",
       "      <td>69997</td>\n",
       "      <td>2019-12-26</td>\n",
       "      <td>Ribeirão Shopping</td>\n",
       "      <td>Camisa Listrado</td>\n",
       "      <td>1</td>\n",
       "      <td>108</td>\n",
       "      <td>108</td>\n",
       "    </tr>\n",
       "    <tr>\n",
       "      <th>7088</th>\n",
       "      <td>69997</td>\n",
       "      <td>2019-12-26</td>\n",
       "      <td>Ribeirão Shopping</td>\n",
       "      <td>Short Linho</td>\n",
       "      <td>2</td>\n",
       "      <td>133</td>\n",
       "      <td>266</td>\n",
       "    </tr>\n",
       "  </tbody>\n",
       "</table>\n",
       "<p>7089 rows × 7 columns</p>\n",
       "</div>"
      ],
      "text/plain": [
       "      Código Venda       Data                     ID Loja           Produto  \\\n",
       "0            65014 2019-12-01            Shopping Morumbi    Sunga Listrado   \n",
       "1            65014 2019-12-01            Shopping Morumbi   Casaco Listrado   \n",
       "2            65016 2019-12-01           Iguatemi Campinas   Sapato Listrado   \n",
       "3            65016 2019-12-01           Iguatemi Campinas            Casaco   \n",
       "4            65017 2019-12-01          Shopping SP Market        Gorro Liso   \n",
       "...            ...        ...                         ...               ...   \n",
       "7084         69996 2019-12-26  Center Shopping Uberlândia    Short Listrado   \n",
       "7085         69996 2019-12-26  Center Shopping Uberlândia           Mochila   \n",
       "7086         69996 2019-12-26  Center Shopping Uberlândia  Pulseira Estampa   \n",
       "7087         69997 2019-12-26           Ribeirão Shopping   Camisa Listrado   \n",
       "7088         69997 2019-12-26           Ribeirão Shopping       Short Linho   \n",
       "\n",
       "      Quantidade  Valor Unitário  Valor Final  \n",
       "0              5             114          570  \n",
       "1              1             269          269  \n",
       "2              2             363          726  \n",
       "3              1             250          250  \n",
       "4              3              92          276  \n",
       "...          ...             ...          ...  \n",
       "7084           2             102          204  \n",
       "7085           4             270         1080  \n",
       "7086           1              87           87  \n",
       "7087           1             108          108  \n",
       "7088           2             133          266  \n",
       "\n",
       "[7089 rows x 7 columns]"
      ]
     },
     "metadata": {},
     "output_type": "display_data"
    },
    {
     "data": {
      "text/plain": [
       "2917311"
      ]
     },
     "metadata": {},
     "output_type": "display_data"
    },
    {
     "data": {
      "text/plain": [
       "15227"
      ]
     },
     "metadata": {},
     "output_type": "display_data"
    }
   ],
   "source": [
    "# passo 4 - Calcularia os indicadores (faturamento e quantidade de produtos vendidos)\n",
    "import pandas as pd# para trabalhar com base de dados\n",
    "\n",
    "tabela = pd.read_excel(r'C:\\Users\\jorda\\OneDrive\\Documetos\\intensivaoDePython\\Vendas - Dez.xlsx')#, sheets='aba tal') # dica raw string -> esse r'...' serve para ler o texto sem char especial\n",
    "display(tabela) # esse display é como se fosse o print, só que mais bonito\n",
    "\n",
    "faturamento = tabela[\"Valor Final\"].sum() # escrever exatamente igual o \"Valor Final\"\n",
    "quantidade = tabela[\"Quantidade\"].sum() # Escrever exatamente igual o \"Quantidade\"\n",
    "# O pandas tem o .count() também ... vários outros\n",
    "display(faturamento)\n",
    "display(quantidade)"
   ]
  },
  {
   "cell_type": "markdown",
   "metadata": {},
   "source": [
    "### Vamos agora enviar um e-mail pelo gmail"
   ]
  },
  {
   "cell_type": "code",
   "execution_count": 52,
   "metadata": {},
   "outputs": [],
   "source": [
    "# passo 5 - Enviar em email para a diretoria com os indicadores\n",
    "pyautogui.hotkey('ctrl', 't') # abriu uma nova aba\n",
    "pyperclip.copy('https://mail.google.com/mail/u/0/#inbox')\n",
    "pyautogui.hotkey('ctrl', 'v')\n",
    "pyautogui.press('enter')\n",
    "time.sleep(5)\n",
    "\n",
    "# clicar no botão escrever\n",
    "pyautogui.click(x=89, y=184)\n",
    "time.sleep(3)\n",
    "# escrever o destinatário (que vai receber o email)\n",
    "pyautogui.write(\"jordanyluiz@gmail.com\")\n",
    "pyautogui.press(\"tab\") # seleciona o email certo\n",
    "# escrever o assunto\n",
    "pyautogui.press(\"tab\") # pula para o campo do assunto\n",
    "pyperclip.copy(\"Relatório de vendas\")\n",
    "pyautogui.hotkey('ctrl', 'v')\n",
    "pyautogui.press(\"tab\") # pula para o campo do corpo do email\n",
    "# escrever o corpo do email\n",
    "# a vírgula separa as casas deciamis (lembra que em inglês é separados pela ,)\n",
    "texto = f'''\n",
    "Prezados, bom dia\n",
    "\n",
    "O faturamento de ontem foi de : R$ {faturamento:,.2f}. \n",
    "A quantidade de produtos foi de: {quantidade:,.2f}.\n",
    "\n",
    "Atenciosamente,\n",
    "Luiz Jordany\n",
    "'''\n",
    "pyperclip.copy(texto)\n",
    "pyautogui.hotkey('ctrl', 'v')\n",
    "# enviar o email\n",
    "pyautogui.hotkey('ctrl', 'enter')"
   ]
  },
  {
   "cell_type": "markdown",
   "metadata": {},
   "source": [
    "#### Use esse código para descobrir qual a posição de um item que queira clicar\n",
    "\n",
    "- Lembre-se: a posição na sua tela é diferente da posição na minha tela"
   ]
  },
  {
   "cell_type": "code",
   "execution_count": 53,
   "metadata": {},
   "outputs": [
    {
     "data": {
      "text/plain": [
       "Point(x=522, y=165)"
      ]
     },
     "execution_count": 53,
     "metadata": {},
     "output_type": "execute_result"
    }
   ],
   "source": [
    "time.sleep(5)\n",
    "pyautogui.position()"
   ]
  }
 ],
 "metadata": {
  "kernelspec": {
   "display_name": "Python 3",
   "language": "python",
   "name": "python3"
  },
  "language_info": {
   "codemirror_mode": {
    "name": "ipython",
    "version": 3
   },
   "file_extension": ".py",
   "mimetype": "text/x-python",
   "name": "python",
   "nbconvert_exporter": "python",
   "pygments_lexer": "ipython3",
   "version": "3.8.8"
  }
 },
 "nbformat": 4,
 "nbformat_minor": 4
}
